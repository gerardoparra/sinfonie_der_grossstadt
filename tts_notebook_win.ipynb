{
 "cells": [
  {
   "cell_type": "markdown",
   "id": "84d83ad5",
   "metadata": {},
   "source": [
    "# SdG based on phoneme generation and text-to-speech (TTS)"
   ]
  },
  {
   "cell_type": "code",
   "execution_count": 16,
   "id": "67ccd0c5",
   "metadata": {},
   "outputs": [],
   "source": [
    "from espeak_phonemizer import Phonemizer\n",
    "import numpy as np\n",
    "from collections import defaultdict\n",
    "import random"
   ]
  },
  {
   "cell_type": "code",
   "execution_count": 2,
   "id": "2550c2ad",
   "metadata": {},
   "outputs": [],
   "source": [
    "def train_markov_model(phoneme_sequences, n=2):\n",
    "    \"\"\"Train an n-gram Markov chain on a list of phoneme sequences.\"\"\"\n",
    "    transitions = defaultdict(lambda: defaultdict(int))\n",
    "    for seq in phoneme_sequences:\n",
    "        tokens = seq.split()\n",
    "        for i in range(len(tokens) - n):\n",
    "            prefix = tuple(tokens[i:i+n-1])\n",
    "            next_token = tokens[i+n-1]\n",
    "            transitions[prefix][next_token] += 1\n",
    "    # Normalize to probabilities\n",
    "    model = {\n",
    "        prefix: {k: v / sum(d.values()) for k, v in d.items()}\n",
    "        for prefix, d in transitions.items()\n",
    "    }\n",
    "    return model\n",
    "\n",
    "def sample_markov(model, n=2, max_len=50, temperature=1.0):\n",
    "    \"\"\"Generate a random phoneme sequence.\"\"\"\n",
    "    prefix = random.choice(list(model.keys()))\n",
    "    result = list(prefix)\n",
    "    for _ in range(max_len - n):\n",
    "        next_probs = model.get(prefix)\n",
    "        if not next_probs:\n",
    "            break\n",
    "        tokens, probs = zip(*next_probs.items())\n",
    "        # Apply temperature for randomness control\n",
    "        probs = np.array(probs) ** (1/temperature)\n",
    "        probs /= probs.sum()\n",
    "        next_token = np.random.choice(tokens, p=probs)\n",
    "        result.append(next_token)\n",
    "        prefix = tuple(result[-(n-1):])\n",
    "    return \" \".join(result)\n"
   ]
  },
  {
   "cell_type": "markdown",
   "id": "df69633d",
   "metadata": {},
   "source": [
    "## Test on sample texts"
   ]
  },
  {
   "cell_type": "code",
   "execution_count": 19,
   "id": "1e212dbb",
   "metadata": {},
   "outputs": [
    {
     "name": "stdout",
     "output_type": "stream",
     "text": [
      "Das Wetter ist heute schön.\n",
      "das vˈɛtɜ ɪst hˈɔøtə ʃˈøːn\n",
      "\n",
      "Ich gehe gerne im Wald spazieren.\n",
      "ɪç ɡˈeːə ɡˈɛɾnə ɪm vˈalt ʃpatsˈiːrən\n",
      "\n",
      "Die Sonne scheint über den Bergen.\n",
      "diː zˈɔnə ʃˈaɪnt ˌyːbɜ deːn bˈɛɾɡən\n",
      "\n",
      "Wir trinken Kaffee am Nachmittag.\n",
      "viːɾ tɾˈɪŋkən kˈafeː am nˈaxmɪtˌɑːk\n",
      "\n",
      "\n",
      "Temperature=0.7\n",
      "ɪç ɡˈeːə ɡˈɛɾnə ɪm vˈalt\n",
      "\n",
      "Temperature=1.0\n",
      "ɡˈɛɾnə ɪm vˈalt\n",
      "\n",
      "Temperature=1.5\n",
      "zˈɔnə ʃˈaɪnt ˌyːbɜ deːn\n"
     ]
    }
   ],
   "source": [
    "sample_texts = [\n",
    "    \"Das Wetter ist heute schön.\",\n",
    "    \"Ich gehe gerne im Wald spazieren.\",\n",
    "    \"Die Sonne scheint über den Bergen.\",\n",
    "    \"Wir trinken Kaffee am Nachmittag.\"\n",
    "]\n",
    "\n",
    "P = Phonemizer()\n",
    "phonemes = [P.phonemize(text, voice='de') for text in sample_texts]  # Example usage\n",
    "\n",
    "for t, p in zip(sample_texts, phonemes):\n",
    "    print(t)\n",
    "    print(p)\n",
    "    print()\n",
    "\n",
    "    \n",
    "# 1. Collect phoneme sequences\n",
    "phoneme_sequences = phonemes  # from step 2\n",
    "\n",
    "# 2. Train Markov model\n",
    "model = train_markov_model(phoneme_sequences, n=3)  # trigram\n",
    "\n",
    "# 3. Sample\n",
    "for temp in [0.7, 1.0, 1.5]:\n",
    "    print(f\"\\nTemperature={temp}\")\n",
    "    print(sample_markov(model, n=3, temperature=temp))\n"
   ]
  }
 ],
 "metadata": {
  "kernelspec": {
   "display_name": "SdG",
   "language": "python",
   "name": "python3"
  },
  "language_info": {
   "codemirror_mode": {
    "name": "ipython",
    "version": 3
   },
   "file_extension": ".py",
   "mimetype": "text/x-python",
   "name": "python",
   "nbconvert_exporter": "python",
   "pygments_lexer": "ipython3",
   "version": "3.11.0"
  }
 },
 "nbformat": 4,
 "nbformat_minor": 5
}
